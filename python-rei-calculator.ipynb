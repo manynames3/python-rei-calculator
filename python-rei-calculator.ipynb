{
 "cells": [
  {
   "cell_type": "code",
   "execution_count": null,
   "metadata": {},
   "outputs": [
    {
     "name": "stdout",
     "output_type": "stream",
     "text": [
      "Welcome to REI calculator\n",
      "\n"
     ]
    }
   ],
   "source": [
    "# Real Estate Investment return calculator by Aiden Rhaa\n",
    "  # Assumptions: Cash purchase & 8% selling cost.\n",
    "    # In v2, converted user input sections to while True, try, except. In order to prevent users from entering non-integer input.\n",
    "\n",
    "print(\"Welcome to REI calculator\\n\")\n",
    "\n",
    "\n",
    "# user input purchase price. user must enter an integer, other wise they will be re-asked.\n",
    "while True:\n",
    "  try:\n",
    "    purchase_price = int(input(\"Purchase Price: $\"))\n",
    "    break\n",
    "  except:\n",
    "    print(\"That's not a valid option!\")\n",
    "\n",
    "\n",
    "# user input holding period. user must enter an integer, other wise they will be re-asked.\n",
    "while True:\n",
    "  try:\n",
    "    holding_period = int(input(\"Holding period in years: \"))\n",
    "    break\n",
    "  except:\n",
    "    print(\"That's not a valid option!\")\n",
    "\n",
    "\n",
    "# user input appreication rate. user must enter an integer, other wise they will be re-asked.\n",
    "while True:\n",
    "  try:\n",
    "    appreciation_rate = int(input(\"Expected Annual Appreciation %: \"))\n",
    "    break\n",
    "  except:\n",
    "    print(\"That's not a valid option!\")\n",
    "\n",
    "\n",
    "# value of the property at the end of holding period \n",
    "future_value = round(purchase_price * (1 + appreciation_rate/100) ** holding_period)\n",
    "\n",
    "\n",
    "# selling cost at the end of holding period, 8%\n",
    "selling_cost = round(future_value * 0.08)\n",
    "\n",
    "\n",
    "# outcome of your real estate investment\n",
    "print(f\"\\nIn {holding_period} years, your investment property will be worth ${future_value}. After 8% selling cost of ${selling_cost}, this investment will have netted you ${future_value - purchase_price} in profit!\")\n",
    "\n",
    "\n",
    "# year by year look at numbers\n",
    "print(\"\\nHere is annualized look at the numbers: \")\n",
    "\n",
    "counter = 1\n",
    "while counter <= holding_period:\n",
    "  gained_value = purchase_price *  (appreciation_rate/100)\n",
    "  purchase_price += int(gained_value)\n",
    "  print(f\"Year {counter}: ${purchase_price}\")\n",
    "  counter += 1"
   ]
  },
  {
   "cell_type": "code",
   "execution_count": null,
   "metadata": {},
   "outputs": [],
   "source": []
  }
 ],
 "metadata": {
  "kernelspec": {
   "display_name": "Python 3",
   "language": "python",
   "name": "python3"
  },
  "language_info": {
   "codemirror_mode": {
    "name": "ipython",
    "version": 3
   },
   "file_extension": ".py",
   "mimetype": "text/x-python",
   "name": "python",
   "nbconvert_exporter": "python",
   "pygments_lexer": "ipython3",
   "version": "3.7.8"
  }
 },
 "nbformat": 4,
 "nbformat_minor": 4
}
